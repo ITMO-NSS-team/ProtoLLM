{
 "cells": [
  {
   "cell_type": "code",
   "execution_count": 2,
   "metadata": {},
   "outputs": [],
   "source": [
    "import sys\n",
    "import os\n",
    "\n",
    "# Добавьте путь к корню вашего проекта\n",
    "project_path = \"/home/andrey/PycharmProjects/ProtoLLM/\"\n",
    "sys.path.append(project_path)"
   ]
  },
  {
   "cell_type": "code",
   "execution_count": 3,
   "metadata": {
    "id": "Nji4iUy3t7Tc"
   },
   "outputs": [],
   "source": [
    "import chromadb\n",
    "import uuid\n",
    "from dotenv import load_dotenv\n",
    "from langchain_community.embeddings.huggingface_hub import HuggingFaceHubEmbeddings\n",
    "from protollm_sdk.models.job_context_models import PromptModel\n",
    "from protollm_sdk.jobs.outer_llm_api import OuterLLMAPI\n",
    "from protollm.rags.rag_core.retriever import DocRetriever, DocsSearcherModels\n",
    "from definitions import CONFIG_PATH"
   ]
  },
  {
   "cell_type": "markdown",
   "metadata": {},
   "source": [
    "Функция для подключения к ChromaDB"
   ]
  },
  {
   "cell_type": "code",
   "execution_count": 4,
   "metadata": {
    "id": "rx_5V4U9t3lb"
   },
   "outputs": [],
   "source": [
    "def init_chroma_client():\n",
    "    host, port = os.environ.get(\"CHROMA_DEFAULT_SETTINGS\").split(':')\n",
    "    return chromadb.HttpClient(\n",
    "        host=host,\n",
    "        port=int(port),\n",
    "        settings=chromadb.Settings(),\n",
    "    )"
   ]
  },
  {
   "cell_type": "markdown",
   "metadata": {},
   "source": [
    "Функция для запроса к ChromaDB"
   ]
  },
  {
   "cell_type": "code",
   "execution_count": 5,
   "metadata": {
    "id": "bokLXYGjt8iW"
   },
   "outputs": [],
   "source": [
    "def proto_view(\n",
    "    query: str,\n",
    "    collection: str,\n",
    "    k: int = 1,\n",
    "    embedding_function: HuggingFaceHubEmbeddings = None,\n",
    ") -> list:\n",
    "    # Возвращает k ближайших к запросу фрагментов\n",
    "    embedding_host = os.environ.get(\"EMBEDDING_HOST\")\n",
    "    embedding_function = HuggingFaceHubEmbeddings(model=embedding_host)\n",
    "    chroma_client = init_chroma_client()\n",
    "\n",
    "    docs_searcher_models = DocsSearcherModels(embedding_model=embedding_function, chroma_client=chroma_client)\n",
    "    retriever = DocRetriever(top_k=k,\n",
    "                             docs_searcher_models=docs_searcher_models,\n",
    "                             )\n",
    "\n",
    "    return retriever.retrieve_top(collection_name=collection, query=query)"
   ]
  },
  {
   "cell_type": "markdown",
   "metadata": {},
   "source": [
    "Функция для запроса к API VseGPT"
   ]
  },
  {
   "cell_type": "code",
   "execution_count": 6,
   "metadata": {
    "id": "FessDH0lt_GO"
   },
   "outputs": [],
   "source": [
    "def outer_llm(question: str,\n",
    "              meta: dict,\n",
    "              key: str,\n",
    "              model: str):\n",
    "    llmapi = OuterLLMAPI(key)\n",
    "    llm_request = PromptModel(job_id=str(uuid.uuid4()),\n",
    "                              meta=meta,\n",
    "                              content=question)\n",
    "    res = llmapi.inference(llm_request)\n",
    "    return res.content"
   ]
  },
  {
   "cell_type": "code",
   "execution_count": 7,
   "metadata": {
    "id": "O4JiL-RJuAja"
   },
   "outputs": [
    {
     "name": "stderr",
     "output_type": "stream",
     "text": [
      "/tmp/ipykernel_64625/1530686652.py:9: LangChainDeprecationWarning: The class `HuggingFaceHubEmbeddings` was deprecated in LangChain 0.2.2 and will be removed in 1.0. An updated version of the class exists in the :class:`~langchain-huggingface package and should be used instead. To use it run `pip install -U :class:`~langchain-huggingface` and import as `from :class:`~langchain_huggingface import HuggingFaceEndpointEmbeddings``.\n",
      "  embedding_function = HuggingFaceHubEmbeddings(model=embedding_host)\n",
      "/home/andrey/PycharmProjects/ProtoLLM/.venv/lib/python3.10/site-packages/tqdm/auto.py:21: TqdmWarning: IProgress not found. Please update jupyter and ipywidgets. See https://ipywidgets.readthedocs.io/en/stable/user_install.html\n",
      "  from .autonotebook import tqdm as notebook_tqdm\n"
     ]
    },
    {
     "name": "stdout",
     "output_type": "stream",
     "text": [
      "Ответ VseGPT LLM: \n",
      " Стратегия в области энергосбережения ставит задачи, направленные на развитие энергосбережения и повышение энергетической эффективности систем коммунальной инфраструктуры. Это включает в себя:\n",
      "\n",
      "1. Реализацию организационных, правовых, технических, технологических и экономических мер, которые способствуют уменьшению объема используемых энергетических ресурсов при сохранении их полезного эффекта.\n",
      "2. Развитие альтернативных источников энергии.\n",
      "3. Оптимизацию процессов технологического присоединения к инженерным сетям, что включает минимизацию административных процедур и требуемых документов.\n",
      "4. Обеспечение соблюдения единых стандартов обслуживания и ускорение процессов подключения к сетям инженерной инфраструктуры, таких как электро-, тепло-, газо-, водоснабжение и водоотведение.\n",
      "\n",
      "Эти меры направлены на повышение энергоэффективности и снижение энергопотребления в коммунальной инфраструктуре.\n"
     ]
    }
   ],
   "source": [
    "load_dotenv(CONFIG_PATH)\n",
    "\n",
    "# Настройки БЯМ\n",
    "model = \"openai/gpt-4o-2024-08-06\"\n",
    "meta = {\"temperature\": 0.05,\n",
    "        \"tokens_limit\": 4096,\n",
    "        \"stop_words\": None}\n",
    "key = os.environ.get(\"VSE_GPT_KEY\")\n",
    "\n",
    "# Название коллекции в БД\n",
    "collection_name = \"strategy-spb\"\n",
    "\n",
    "# Вопрос\n",
    "question = 'Какие задачи Стратегия ставит в области энергосбережения?'\n",
    "\n",
    "# Извлечение контекста из БД\n",
    "context = proto_view(question, collection_name)\n",
    "context = f'Вопрос: {question} Контекст: {context[0].page_content}'\n",
    "\n",
    "# Получение ответа от БЯМ\n",
    "print(f'Ответ VseGPT LLM: \\n {outer_llm(context, meta, key, model)}')"
   ]
  }
 ],
 "metadata": {
  "colab": {
   "provenance": []
  },
  "kernelspec": {
   "display_name": "Python (.venv)",
   "language": "python",
   "name": ".venv"
  },
  "language_info": {
   "codemirror_mode": {
    "name": "ipython",
    "version": 3
   },
   "file_extension": ".py",
   "mimetype": "text/x-python",
   "name": "python",
   "nbconvert_exporter": "python",
   "pygments_lexer": "ipython3",
   "version": "3.10.14"
  }
 },
 "nbformat": 4,
 "nbformat_minor": 4
}
