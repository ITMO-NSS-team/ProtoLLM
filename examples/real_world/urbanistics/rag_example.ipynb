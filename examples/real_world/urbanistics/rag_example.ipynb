{
 "cells": [
  {
   "cell_type": "code",
   "execution_count": 1,
   "metadata": {},
   "outputs": [],
   "source": [
    "import sys\n",
    "import os\n",
    "\n",
    "# Добавьте путь к корню вашего проекта\n",
    "project_path = \"/home/andrey/PycharmProjects/ProtoLLM/\"\n",
    "sys.path.append(project_path)"
   ]
  },
  {
   "cell_type": "code",
   "execution_count": 2,
   "metadata": {
    "id": "Nji4iUy3t7Tc"
   },
   "outputs": [],
   "source": [
    "import chromadb\n",
    "import uuid\n",
    "from dotenv import load_dotenv\n",
    "from langchain_community.embeddings.huggingface_hub import HuggingFaceHubEmbeddings\n",
    "from protollm_sdk.models.job_context_models import PromptModel\n",
    "from protollm_sdk.jobs.outer_llm_api import OuterLLMAPI\n",
    "from protollm.rags.rag_core.retriever import DocRetriever, DocsSearcherModels\n",
    "from definitions import CONFIG_PATH"
   ]
  },
  {
   "cell_type": "markdown",
   "metadata": {},
   "source": [
    "Функция для подключения к ChromaDB"
   ]
  },
  {
   "cell_type": "code",
   "execution_count": 3,
   "metadata": {
    "id": "rx_5V4U9t3lb"
   },
   "outputs": [],
   "source": [
    "def init_chroma_client():\n",
    "    host, port = os.environ.get(\"CHROMA_DEFAULT_SETTINGS\").split(':')\n",
    "    return chromadb.HttpClient(\n",
    "        host=host,\n",
    "        port=int(port),\n",
    "        settings=chromadb.Settings(),\n",
    "    )"
   ]
  },
  {
   "cell_type": "markdown",
   "metadata": {},
   "source": [
    "Функция для запроса к ChromaDB"
   ]
  },
  {
   "cell_type": "code",
   "execution_count": 4,
   "metadata": {
    "id": "bokLXYGjt8iW"
   },
   "outputs": [],
   "source": [
    "def proto_view(\n",
    "    query: str,\n",
    "    collection: str,\n",
    "    k: int = 1,\n",
    "    embedding_function: HuggingFaceHubEmbeddings = None,\n",
    ") -> list:\n",
    "    # Возвращает k ближайших к запросу фрагментов\n",
    "    embedding_host = os.environ.get(\"EMBEDDING_HOST\")\n",
    "    embedding_function = HuggingFaceHubEmbeddings(model=embedding_host)\n",
    "    chroma_client = init_chroma_client()\n",
    "\n",
    "    docs_searcher_models = DocsSearcherModels(embedding_model=embedding_function, chroma_client=chroma_client)\n",
    "    retriever = DocRetriever(top_k=k,\n",
    "                             docs_searcher_models=docs_searcher_models,\n",
    "                             )\n",
    "\n",
    "    return retriever.retrieve_top(collection_name=collection, query=query)"
   ]
  },
  {
   "cell_type": "markdown",
   "metadata": {},
   "source": [
    "Функция для запроса к API VseGPT"
   ]
  },
  {
   "cell_type": "code",
   "execution_count": 5,
   "metadata": {
    "id": "FessDH0lt_GO"
   },
   "outputs": [],
   "source": [
    "def outer_llm(question: str,\n",
    "              meta: dict,\n",
    "              key: str,\n",
    "              model: str):\n",
    "    llmapi = OuterLLMAPI(key, model)\n",
    "    llm_request = PromptModel(job_id=str(uuid.uuid4()),\n",
    "                              meta=meta,\n",
    "                              content=question)\n",
    "    res = llmapi.inference(llm_request)\n",
    "    return res.content"
   ]
  },
  {
   "cell_type": "code",
   "execution_count": 8,
   "metadata": {
    "id": "O4JiL-RJuAja"
   },
   "outputs": [
    {
     "name": "stdout",
     "output_type": "stream",
     "text": [
      "Вопрос: Какие задачи Стратегия ставит в области энергосбережения? \n",
      "Контекст: В рамках указанной задачи необходимо обеспечить соблюдение единых стандартов обслуживания, ускорение и оптимизацию процессов подключения к сетям инженерной инфраструктуры: электро-, тепло-, газо-, водоснабжения и водоотведения. Регулирование процессов технологического присоединения к инженерным сетям необходимо осуществлять за счет оптимизации процессов технологического присоединения, обеспечения минимального количества административных процедур и требуемых документов как для потребителя услуги по подключению, так и для организаций инженерно-энергетического комплекса при строительстве сетей инженерного обеспечения. 3.5. Задача \"Развитие энергосбережения и энергетической эффективности систем коммунальной инфраструктуры\". Выполнение указанной задачи направлено на развитие энергосбережения и энергоэффективности, включающее в себя реализацию организационных, правовых, технических, технологических, экономических и иных мер, направленных на уменьшение объема используемых энергетических ресурсов при сохранении их полезного эффекта, развитие альтернативных источников энергии.\n"
     ]
    }
   ],
   "source": [
    "load_dotenv(CONFIG_PATH)\n",
    "\n",
    "# Настройки БЯМ\n",
    "model = \"openai/gpt-4o-2024-08-06\"\n",
    "meta = {\"temperature\": 0.05,\n",
    "        \"tokens_limit\": 4096,\n",
    "        \"stop_words\": None}\n",
    "key = os.environ.get(\"VSE_GPT_KEY\")\n",
    "\n",
    "# Название коллекции в БД\n",
    "collection_name = \"strategy-spb\"\n",
    "\n",
    "# Вопрос\n",
    "question = 'Какие задачи Стратегия ставит в области энергосбережения?'\n",
    "\n",
    "# Извлечение контекста из БД\n",
    "context = proto_view(question, collection_name)\n",
    "context = f'Вопрос: {question} \\nКонтекст: {context[0].page_content}'\n",
    "print(context)"
   ]
  },
  {
   "cell_type": "code",
   "execution_count": 10,
   "metadata": {},
   "outputs": [
    {
     "name": "stdout",
     "output_type": "stream",
     "text": [
      "Ответ VseGPT LLM: \n",
      " Стратегия в области энергосбережения ставит следующие задачи:\n",
      "\n",
      "1. **Развитие энергосбережения и энергоэффективности**: Это включает реализацию различных мер (организационных, правовых, технических, технологических, экономических и других), направленных на уменьшение объема используемых энергетических ресурсов при сохранении их полезного эффекта.\n",
      "\n",
      "2. **Развитие альтернативных источников энергии**: Поощрение использования и развития альтернативных источников энергии для снижения зависимости от традиционных энергетических ресурсов.\n",
      "\n",
      "Эти задачи направлены на повышение эффективности использования энергетических ресурсов и снижение их потребления, что способствует устойчивому развитию и снижению негативного воздействия на окружающую среду.\n"
     ]
    }
   ],
   "source": [
    "# Получение ответа от БЯМ\n",
    "print(f'Ответ VseGPT LLM: \\n {outer_llm(context, meta, key, model)}')"
   ]
  }
 ],
 "metadata": {
  "colab": {
   "provenance": []
  },
  "kernelspec": {
   "display_name": "Python (.venv)",
   "language": "python",
   "name": ".venv"
  },
  "language_info": {
   "codemirror_mode": {
    "name": "ipython",
    "version": 3
   },
   "file_extension": ".py",
   "mimetype": "text/x-python",
   "name": "python",
   "nbconvert_exporter": "python",
   "pygments_lexer": "ipython3",
   "version": "3.10.14"
  }
 },
 "nbformat": 4,
 "nbformat_minor": 4
}
